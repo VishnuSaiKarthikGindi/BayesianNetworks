{
 "cells": [
  {
   "cell_type": "code",
   "execution_count": 1,
   "metadata": {
    "id": "NE2IyWJhBasS"
   },
   "outputs": [],
   "source": [
    "import copy\n",
    "import random\n",
    "from collections import defaultdict\n",
    "from functools import reduce\n",
    "import numpy as np\n",
    "\n",
    "def probability(p):\n",
    "    return p > random.uniform(0.0, 1.0)\n",
    "\n",
    "def event_values(event, variables):\n",
    "    if isinstance(event, tuple) and len(event) == len(variables):\n",
    "        return event\n",
    "    else:\n",
    "        return tuple([event[var] for var in variables])"
   ]
  },
  {
   "cell_type": "code",
   "execution_count": 2,
   "metadata": {
    "id": "D0G1vSbQCLrm"
   },
   "outputs": [],
   "source": [
    "###Resourced from aima-python### \n",
    "\n",
    "from itertools import product\n",
    "\n",
    "class BayesNet:\n",
    "    \"\"\"Bayesian network containing only boolean-variable nodes.\"\"\"\n",
    "\n",
    "    def __init__(self, node_specs=None):\n",
    "        \"\"\"Nodes must be ordered with parents before children.\"\"\"\n",
    "        self.nodes = []\n",
    "        self.variables = []\n",
    "        node_specs = node_specs or []\n",
    "        for node_spec in node_specs:\n",
    "            self.add(node_spec)\n",
    "\n",
    "    def add(self, node_spec):\n",
    "        \"\"\"Add a node to the net. Its parents must already be in the\n",
    "        net, and its variable must not.\"\"\"\n",
    "        node = BayesNode(*node_spec)\n",
    "        assert node.variable not in self.variables\n",
    "        assert all((parent in self.variables) for parent in node.parents)\n",
    "        self.nodes.append(node)\n",
    "        self.variables.append(node.variable)\n",
    "        for parent in node.parents:\n",
    "            self.variable_node(parent).children.append(node)\n",
    "\n",
    "    def variable_node(self, var):\n",
    "        \"\"\"Return the node for the variable named var.\n",
    "        >>> burglary.variable_node('Burglary').variable\n",
    "        'Burglary'\"\"\"\n",
    "        for n in self.nodes:\n",
    "            if n.variable == var:\n",
    "                return n\n",
    "        raise Exception(\"No such variable: {}\".format(var))\n",
    "\n",
    "    def variable_values(self, var):\n",
    "        \"\"\"Return the domain of var.\"\"\"\n",
    "        return [True, False]\n",
    "\n",
    "    def __repr__(self):\n",
    "        return 'BayesNet({0!r})'.format(self.nodes)\n",
    "\n",
    "class BayesNode:\n",
    "    \"\"\"A conditional probability distribution for a boolean variable,\n",
    "    P(X | parents). Part of a BayesNet.\"\"\"\n",
    "    def __init__(self, X, parents, cpt):\n",
    "        \"\"\"X is a variable name, and parents a sequence of variable\n",
    "        names or a space-separated string.  cpt, the conditional\n",
    "        probability table, takes one of these forms:\n",
    "\n",
    "        * A number, the unconditional probability P(X=true). You can\n",
    "          use this form when there are no parents.\n",
    "\n",
    "        * A dict {v: p, ...}, the conditional probability distribution\n",
    "          P(X=true | parent=v) = p. When there's just one parent.\n",
    "\n",
    "        * A dict {(v1, v2, ...): p, ...}, the distribution P(X=true |\n",
    "          parent1=v1, parent2=v2, ...) = p. Each key must have as many\n",
    "          values as there are parents. You can use this form always;\n",
    "          the first two are just conveniences.\n",
    "\n",
    "        In all cases the probability of X being false is left implicit,\n",
    "        since it follows from P(X=true).\n",
    "\n",
    "        >>> X = BayesNode('X', '', 0.2)\n",
    "        >>> Y = BayesNode('Y', 'P', {T: 0.2, F: 0.7})\n",
    "        >>> Z = BayesNode('Z', 'P Q',\n",
    "        ...    {(T, T): 0.2, (T, F): 0.3, (F, T): 0.5, (F, F): 0.7})\"\"\"\n",
    "\n",
    "        if isinstance(parents, str):\n",
    "            parents = parents.split()\n",
    "\n",
    "        # We store the table always in the third form above.\n",
    "        if isinstance(cpt, (float, int)):  # no parents, 0-tuple\n",
    "            cpt = {(): cpt}\n",
    "        elif isinstance(cpt, dict):\n",
    "            # one parent, 1-tuple\n",
    "            if cpt and isinstance(list(cpt.keys())[0], bool):\n",
    "                cpt = {(v,): p for v, p in cpt.items()}\n",
    "\n",
    "        assert isinstance(cpt, dict)\n",
    "        for vs, p in cpt.items():\n",
    "            assert isinstance(vs, tuple) and len(vs) == len(parents)\n",
    "            assert all(isinstance(v, bool) for v in vs)\n",
    "            assert 0 <= p <= 1\n",
    "\n",
    "        self.variable = X\n",
    "        self.parents = parents\n",
    "        self.cpt = cpt\n",
    "        self.children = []\n",
    "\n",
    "    def p(self, value, event):\n",
    "        \"\"\"Return the conditional probability\n",
    "        P(X=value | parents=parent_values), where parent_values\n",
    "        are the values of parents in event. (event must assign each\n",
    "        parent a value.)\n",
    "        >>> bn = BayesNode('X', 'Burglary', {T: 0.2, F: 0.625})\n",
    "        >>> bn.p(False, {'Burglary': False, 'Earthquake': True})\n",
    "        0.375\"\"\"\n",
    "        assert isinstance(value, bool)\n",
    "        ptrue = self.cpt[event_values(event, self.parents)]\n",
    "        return ptrue if value else 1 - ptrue\n",
    "\n",
    "    def sample(self, event):\n",
    "        return probability(self.p(True, event))\n",
    "\n",
    "    def __repr__(self):\n",
    "        return repr((self.variable, ' '.join(self.parents)))"
   ]
  },
  {
   "cell_type": "code",
   "execution_count": 3,
   "metadata": {
    "id": "lnlKoTcg4pFv"
   },
   "outputs": [],
   "source": [
    "def joint_probability(network, **query):\n",
    "    \"\"\"\n",
    "    Evaluate the joint probability of all variables in the network\n",
    "    subject to the given query. query is a dict with variable names(nodes) as keys and \n",
    "    observed values as values(boolean).\n",
    "    \"\"\"\n",
    "    variables = network.variables\n",
    "    \"\"\"\n",
    "    Generate all possible combinations of boolean values for every variable\n",
    "    [False False False False False False False]\n",
    "    [False False False False False False True]\n",
    "    \"\"\"  \n",
    "    combinations = product(*[network.variable_values(variable) for variable in variables])\n",
    "\n",
    "    joint_prob = 0\n",
    "    for combination in combinations:\n",
    "        #Pattern validity \n",
    "        valid = True\n",
    "        for var_name, var_value in query.items():\n",
    "            #Compare the combination and query dict and check if they are equal or not\n",
    "            if combination[variables.index(var_name)] != var_value:\n",
    "                valid = False\n",
    "                break \n",
    "        if valid:\n",
    "            prob = 1.0\n",
    "            \"\"\"\n",
    "            Checks every node and its parent and returns the conditional probability \n",
    "            from the CPT using Bayesian Network class which calls teh Bayesnode class. \n",
    "            \"\"\"\n",
    "            for node in network.nodes:\n",
    "                #returns the probability value of the parent variable from the CPTs.\n",
    "                cpt = node.cpt[tuple(combination[variables.index(parent)] for parent in node.parents)]\n",
    "                #checks for the value of the variable, returns 1-cpt if not.\n",
    "                prob *= cpt if combination[variables.index(node.variable)] else 1 - cpt\n",
    "            joint_prob += prob\n",
    "    return joint_prob"
   ]
  },
  {
   "cell_type": "code",
   "execution_count": 6,
   "metadata": {
    "id": "BgsXN64fWA_-"
   },
   "outputs": [],
   "source": [
    "# 0 -> False, 1 -> True\n",
    "T, F = True, False\n",
    "network = BayesNet([\n",
    "    ('A', '', 0.28),\n",
    "    ('B', 'A', {F: 0.65, T: 0.45}),\n",
    "    ('C', 'B A', {(F, F): 0.21,(F, T): 0.14, (T, F): 0.65, (T, T): 0.71}),\n",
    "    ('D', 'C', {F: 0.7, T: 0.51}),\n",
    "    ('E', 'D C', {(F, F): 0.91,(F, T): 0.87, (T, F): 0.71, (T, T): 0.4}),\n",
    "    ('F', 'E', {F: 0.92, T: 0.88}),\n",
    "    ('G', 'F', {F: 0.64, T: 0.72})\n",
    "])"
   ]
  },
  {
   "cell_type": "code",
   "execution_count": 7,
   "metadata": {
    "colab": {
     "base_uri": "https://localhost:8080/"
    },
    "id": "XSFh0ZqiCuhh",
    "outputId": "6c8c011e-8eb5-4f69-c21c-fa846149e1cf"
   },
   "outputs": [
    {
     "name": "stdout",
     "output_type": "stream",
     "text": [
      "0.09308519999999998\n"
     ]
    }
   ],
   "source": [
    "#example query1\n",
    "query = {'A': False, 'B': True, 'C': True, 'D': True, 'E':False} #A=F,B=T,C=T,D=T,E=F\n",
    "joint_prob = joint_probability(network, **query)\n",
    "print(joint_prob)"
   ]
  },
  {
   "cell_type": "code",
   "execution_count": 8,
   "metadata": {
    "colab": {
     "base_uri": "https://localhost:8080/"
    },
    "id": "j9DZ_mgVbuFi",
    "outputId": "ef3a05e1-6649-458b-e350-43dde01ebd14"
   },
   "outputs": [
    {
     "name": "stdout",
     "output_type": "stream",
     "text": [
      "0.4681399999999999\n"
     ]
    }
   ],
   "source": [
    "#example query2\n",
    "query = {'C': True} #C=T\n",
    "joint_prob = joint_probability(network, **query)\n",
    "print(joint_prob)"
   ]
  },
  {
   "cell_type": "code",
   "execution_count": 9,
   "metadata": {
    "colab": {
     "base_uri": "https://localhost:8080/"
    },
    "id": "eNCbB34se00F",
    "outputId": "d84f752d-130a-47aa-8875-ff6159f53726"
   },
   "outputs": [
    {
     "name": "stdout",
     "output_type": "stream",
     "text": [
      "0.26433442\n"
     ]
    }
   ],
   "source": [
    "#example query3\n",
    "query = {'C': False, 'D': True, 'E': True} #C=F,D=T,E=T\n",
    "joint_prob = joint_probability(network, **query)\n",
    "print(joint_prob)"
   ]
  },
  {
   "cell_type": "code",
   "execution_count": 11,
   "metadata": {
    "colab": {
     "base_uri": "https://localhost:8080/"
    },
    "id": "rszOOOEYdL6J",
    "outputId": "aed41770-a788-4e30-949e-c8cd3c0d1b05"
   },
   "outputs": [
    {
     "name": "stdout",
     "output_type": "stream",
     "text": [
      "0.30419999999999997\n",
      "0.2387514\n",
      "0.09550056\n",
      "0.4464350934912\n"
     ]
    }
   ],
   "source": [
    "#Couple of some example hypothesis\n",
    "queries = [{'A': False, 'B': True, 'C': True},\n",
    "           {'D': True, 'C': True},\n",
    "           {'E': True, 'C': True, 'D': True},\n",
    "           {'E': True, 'F': True, 'G': True}\n",
    "           ]\n",
    "for query in queries:\n",
    "  joint_prob = joint_probability(network, **query)\n",
    "  print(joint_prob)"
   ]
  }
 ],
 "metadata": {
  "colab": {
   "provenance": []
  },
  "kernelspec": {
   "display_name": "Python 3 (ipykernel)",
   "language": "python",
   "name": "python3"
  },
  "language_info": {
   "codemirror_mode": {
    "name": "ipython",
    "version": 3
   },
   "file_extension": ".py",
   "mimetype": "text/x-python",
   "name": "python",
   "nbconvert_exporter": "python",
   "pygments_lexer": "ipython3",
   "version": "3.11.1"
  }
 },
 "nbformat": 4,
 "nbformat_minor": 1
}
